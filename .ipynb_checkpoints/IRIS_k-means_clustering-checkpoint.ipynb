{
 "cells": [
  {
   "cell_type": "markdown",
   "id": "da8da177",
   "metadata": {},
   "source": [
    "# Implementation of k-means clustering algorithm"
   ]
  },
  {
   "cell_type": "markdown",
   "id": "d221601a",
   "metadata": {},
   "source": [
    "This notebook contains implemetation of k-means clustering algorithm and clusterisation of iris flowers using implementation."
   ]
  },
  {
   "cell_type": "code",
   "execution_count": 1,
   "id": "29ef302d",
   "metadata": {},
   "outputs": [],
   "source": [
    "from math import fsum,sqrt\n",
    "from pprint import pprint\n",
    "from collections import defaultdict\n",
    "from functools import partial\n",
    "from random import sample\n",
    "from sklearn.datasets import load_iris"
   ]
  },
  {
   "cell_type": "code",
   "execution_count": 2,
   "id": "5ecae997",
   "metadata": {},
   "outputs": [],
   "source": [
    "iris = load_iris()\n",
    "data=[tuple(d) for d in iris.data] #convert iris.data to list of tuples"
   ]
  },
  {
   "cell_type": "code",
   "execution_count": 3,
   "id": "13274c13",
   "metadata": {},
   "outputs": [],
   "source": [
    "def dist(p,q):\n",
    "  \"\"\"To compute distance between two points (p and q)\"\"\"\n",
    "  return sqrt(fsum([(x-y)**2 for x, y in zip(p,q)]))"
   ]
  },
  {
   "cell_type": "code",
   "execution_count": 4,
   "id": "376044f8",
   "metadata": {},
   "outputs": [],
   "source": [
    "def group_data(centroids, data):\n",
    "  \"\"\"To group data by minimal distance from centroid (the closest centroid)\"\"\"\n",
    "  d =defaultdict(list)\n",
    "  for sample in data:\n",
    "    closest_centroid =tuple(min(centroids, key=partial(dist, sample)))\n",
    "    d[closest_centroid].append(sample)\n",
    "  return d"
   ]
  },
  {
   "cell_type": "code",
   "execution_count": 5,
   "id": "2e62218d",
   "metadata": {},
   "outputs": [],
   "source": [
    "def compute_centroids(groups):\n",
    "  \"\"\"To compute new centroid of each group (mean value of sample features in the group)\"\"\"\n",
    "  centroids=[]\n",
    "  for group in groups:\n",
    "    centroid=[fsum(features)/len(features) for features in zip(*group)]\n",
    "    centroids.append(centroid)\n",
    "  return(centroids)"
   ]
  },
  {
   "cell_type": "code",
   "execution_count": 6,
   "id": "a6432d53",
   "metadata": {},
   "outputs": [],
   "source": [
    "def k_means(data,k=3,max_iterations=40):\n",
    "  \"\"\"k_means - cluster data in k groups\"\"\"\n",
    "  data=list(data)\n",
    "  centroids = sample(data,k)\n",
    "  i=0\n",
    "  while (i<max_iterations):\n",
    "    old_centroids = centroids\n",
    "    clustered_data =group_data(centroids,data)\n",
    "    centroids = compute_centroids(clustered_data.values())\n",
    "    i+=1\n",
    "    if (old_centroids == centroids):\n",
    "      break\n",
    "  return clustered_data"
   ]
  },
  {
   "cell_type": "code",
   "execution_count": 7,
   "id": "2cba3e18",
   "metadata": {},
   "outputs": [
    {
     "name": "stdout",
     "output_type": "stream",
     "text": [
      "Cluster No.:  1\n",
      "Cluster centroid:  (4.803225806451613, 3.225806451612903, 1.4193548387096775, 0.20967741935483872)\n",
      "Objects in cluster:  31\n",
      "Cluster No.:  2\n",
      "Cluster centroid:  (5.290909090909091, 3.5727272727272723, 1.7590909090909093, 0.40454545454545454)\n",
      "Objects in cluster:  22\n",
      "Cluster No.:  3\n",
      "Cluster centroid:  (6.301030927835052, 2.88659793814433, 4.958762886597938, 1.6958762886597938)\n",
      "Objects in cluster:  97\n"
     ]
    }
   ],
   "source": [
    "if __name__==\"__main__\":\n",
    "  clustered_data =k_means(data,k=3)\n",
    "  #Analysis of results\n",
    "  k=0\n",
    "  for c in clustered_data.keys():\n",
    "    k+=1\n",
    "    print (\"Cluster No.: \",k,)\n",
    "    print (\"Cluster centroid: \", c)\n",
    "    print (\"Objects in cluster: \",len(clustered_data[tuple(c)]))"
   ]
  }
 ],
 "metadata": {
  "kernelspec": {
   "display_name": "Python 3 (ipykernel)",
   "language": "python",
   "name": "python3"
  },
  "language_info": {
   "codemirror_mode": {
    "name": "ipython",
    "version": 3
   },
   "file_extension": ".py",
   "mimetype": "text/x-python",
   "name": "python",
   "nbconvert_exporter": "python",
   "pygments_lexer": "ipython3",
   "version": "3.9.12"
  }
 },
 "nbformat": 4,
 "nbformat_minor": 5
}
